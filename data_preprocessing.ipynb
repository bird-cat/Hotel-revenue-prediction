{
 "cells": [
  {
   "cell_type": "code",
   "execution_count": 1,
   "metadata": {},
   "outputs": [],
   "source": [
    "import numpy as np\n",
    "import pandas as pd"
   ]
  },
  {
   "cell_type": "code",
   "execution_count": 2,
   "metadata": {},
   "outputs": [],
   "source": [
    "# Import data\n",
    "train_df = pd.read_csv(\"train.csv\")\n",
    "test_df = pd.read_csv(\"test.csv\")"
   ]
  },
  {
   "cell_type": "code",
   "execution_count": 10,
   "metadata": {},
   "outputs": [],
   "source": [
    "monthMap = {'January':'1', 'February':'2', 'March':'3',\\\n",
    "            'April':'4', 'May':'5', 'June':'6',\\\n",
    "            'July':'7', 'August':'8', 'September':'9',\\\n",
    "            'October':'10', 'November':'11', 'December':'12'}"
   ]
  },
  {
   "cell_type": "code",
   "execution_count": 11,
   "metadata": {},
   "outputs": [],
   "source": [
    "def getArrivalDate(row):\n",
    "    return pd.to_datetime(str(row.arrival_date_year) + '-' + monthMap[row.arrival_date_month] + '-' + str(row.arrival_date_day_of_month))"
   ]
  },
  {
   "cell_type": "code",
   "execution_count": 12,
   "metadata": {},
   "outputs": [],
   "source": [
    "train_df['arrival_date'] = train_df.apply(getArrivalDate, axis=1)\n",
    "test_df['arrival_date'] = test_df.apply(getArrivalDate, axis=1)\n",
    "\n",
    "train_df['stays'] = train_df.apply(lambda row: row.stays_in_weekend_nights + row.stays_in_week_nights, axis=1)\n",
    "test_df['stays'] = test_df.apply(lambda row: row.stays_in_weekend_nights + row.stays_in_week_nights, axis=1)\n",
    "\n",
    "train_df['expected_cost'] = train_df.apply(lambda row: row.adr * row.stays, axis=1)"
   ]
  },
  {
   "cell_type": "code",
   "execution_count": 13,
   "metadata": {},
   "outputs": [],
   "source": [
    "train_df['children'].fillna(value=0.0, inplace=True)\n",
    "train_df['persons'] = train_df.apply(lambda row: row.adults + row.children + row.babies, axis=1)\n",
    "test_df['persons'] = test_df.apply(lambda row: row.adults + row.children + row.babies, axis=1)"
   ]
  },
  {
   "cell_type": "code",
   "execution_count": 15,
   "metadata": {},
   "outputs": [],
   "source": [
    "train_df['adr_pp'] = train_df.apply(lambda row: row.adr / row.persons, axis=1)"
   ]
  },
  {
   "cell_type": "code",
   "execution_count": 3,
   "metadata": {},
   "outputs": [],
   "source": [
    "train_df['company'].fillna(-1, inplace=True)\n",
    "train_df['agent'].fillna(-1, inplace=True)"
   ]
  },
  {
   "cell_type": "code",
   "execution_count": 18,
   "metadata": {},
   "outputs": [],
   "source": [
    "# clean invalid data\n",
    "train_df.drop(train_df[train_df.adr < 0].index, inplace=True)\n",
    "train_df.drop(train_df[train_df.persons == 0].index, inplace=True)\n",
    "test_df.drop(test_df[test_df.persons == 0].index, inplace=True)\n",
    "\n",
    "train_df.reset_index(drop=True, inplace=True)\n",
    "test_df.reset_index(drop=True, inplace=True)"
   ]
  },
  {
   "cell_type": "code",
   "execution_count": 4,
   "metadata": {},
   "outputs": [
    {
     "name": "stdout",
     "output_type": "stream",
     "text": [
      "<class 'pandas.core.frame.DataFrame'>\n",
      "RangeIndex: 89311 entries, 0 to 89310\n",
      "Data columns (total 41 columns):\n",
      " #   Column                          Non-Null Count  Dtype  \n",
      "---  ------                          --------------  -----  \n",
      " 0   Unnamed: 0                      89311 non-null  int64  \n",
      " 1   Unnamed: 0.1                    89311 non-null  int64  \n",
      " 2   Unnamed: 0.1.1                  89311 non-null  int64  \n",
      " 3   ID                              89311 non-null  int64  \n",
      " 4   hotel                           89311 non-null  object \n",
      " 5   is_canceled                     89311 non-null  int64  \n",
      " 6   lead_time                       89311 non-null  int64  \n",
      " 7   arrival_date_year               89311 non-null  int64  \n",
      " 8   arrival_date_month              89311 non-null  object \n",
      " 9   arrival_date_week_number        89311 non-null  int64  \n",
      " 10  arrival_date_day_of_month       89311 non-null  int64  \n",
      " 11  stays_in_weekend_nights         89311 non-null  int64  \n",
      " 12  stays_in_week_nights            89311 non-null  int64  \n",
      " 13  adults                          89311 non-null  int64  \n",
      " 14  children                        89311 non-null  float64\n",
      " 15  babies                          89311 non-null  int64  \n",
      " 16  meal                            89311 non-null  object \n",
      " 17  country                         88862 non-null  object \n",
      " 18  market_segment                  89311 non-null  object \n",
      " 19  distribution_channel            89311 non-null  object \n",
      " 20  is_repeated_guest               89311 non-null  int64  \n",
      " 21  previous_cancellations          89311 non-null  int64  \n",
      " 22  previous_bookings_not_canceled  89311 non-null  int64  \n",
      " 23  reserved_room_type              89311 non-null  object \n",
      " 24  assigned_room_type              89311 non-null  object \n",
      " 25  booking_changes                 89311 non-null  int64  \n",
      " 26  deposit_type                    89311 non-null  object \n",
      " 27  agent                           89311 non-null  float64\n",
      " 28  company                         89311 non-null  float64\n",
      " 29  days_in_waiting_list            89311 non-null  int64  \n",
      " 30  customer_type                   89311 non-null  object \n",
      " 31  adr                             89311 non-null  float64\n",
      " 32  required_car_parking_spaces     89311 non-null  int64  \n",
      " 33  total_of_special_requests       89311 non-null  int64  \n",
      " 34  reservation_status              89311 non-null  object \n",
      " 35  reservation_status_date         89311 non-null  object \n",
      " 36  arrival_date                    89311 non-null  object \n",
      " 37  stays                           89311 non-null  int64  \n",
      " 38  expected_cost                   89311 non-null  float64\n",
      " 39  persons                         89311 non-null  float64\n",
      " 40  adr_pp                          89311 non-null  float64\n",
      "dtypes: float64(7), int64(21), object(13)\n",
      "memory usage: 27.9+ MB\n"
     ]
    }
   ],
   "source": [
    "train_df.info()"
   ]
  },
  {
   "cell_type": "code",
   "execution_count": 20,
   "metadata": {},
   "outputs": [
    {
     "data": {
      "text/plain": [
       "(89311, 40)"
      ]
     },
     "execution_count": 20,
     "metadata": {},
     "output_type": "execute_result"
    }
   ],
   "source": [
    "train_df.shape"
   ]
  },
  {
   "cell_type": "code",
   "execution_count": 21,
   "metadata": {},
   "outputs": [
    {
     "data": {
      "text/plain": [
       "(27830, 34)"
      ]
     },
     "execution_count": 21,
     "metadata": {},
     "output_type": "execute_result"
    }
   ],
   "source": [
    "test_df.shape"
   ]
  },
  {
   "cell_type": "code",
   "execution_count": 5,
   "metadata": {},
   "outputs": [],
   "source": [
    "train_df.to_csv(\"train.csv\")"
   ]
  },
  {
   "cell_type": "code",
   "execution_count": 6,
   "metadata": {},
   "outputs": [],
   "source": [
    "test_df.to_csv(\"test.csv\")"
   ]
  },
  {
   "cell_type": "code",
   "execution_count": null,
   "metadata": {},
   "outputs": [],
   "source": []
  }
 ],
 "metadata": {
  "environment": {
   "name": "tf2-2-3-gpu.2-3.m59",
   "type": "gcloud",
   "uri": "gcr.io/deeplearning-platform-release/tf2-2-3-gpu.2-3:m59"
  },
  "kernelspec": {
   "display_name": "Python 3",
   "language": "python",
   "name": "python3"
  },
  "language_info": {
   "codemirror_mode": {
    "name": "ipython",
    "version": 3
   },
   "file_extension": ".py",
   "mimetype": "text/x-python",
   "name": "python",
   "nbconvert_exporter": "python",
   "pygments_lexer": "ipython3",
   "version": "3.7.8"
  }
 },
 "nbformat": 4,
 "nbformat_minor": 4
}
