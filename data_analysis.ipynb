{
 "cells": [
  {
   "cell_type": "code",
   "execution_count": 12,
   "metadata": {},
   "outputs": [],
   "source": [
    "import numpy as np\n",
    "import pandas as pd\n",
    "import matplotlib.pyplot as plt\n",
    "from sklearn.pipeline import Pipeline\n",
    "from sklearn.impute import SimpleImputer\n",
    "from sklearn.preprocessing import OneHotEncoder, StandardScaler, PolynomialFeatures\n",
    "from sklearn.decomposition import TruncatedSVD\n",
    "from sklearn.compose import ColumnTransformer"
   ]
  },
  {
   "cell_type": "code",
   "execution_count": 2,
   "metadata": {},
   "outputs": [],
   "source": [
    "train_df = pd.read_csv(\"train.csv\")\n",
    "train_label_df = pd.read_csv(\"train_label.csv\")"
   ]
  },
  {
   "cell_type": "code",
   "execution_count": 3,
   "metadata": {},
   "outputs": [
    {
     "name": "stdout",
     "output_type": "stream",
     "text": [
      "<class 'pandas.core.frame.DataFrame'>\n",
      "RangeIndex: 89311 entries, 0 to 89310\n",
      "Data columns (total 41 columns):\n",
      " #   Column                          Non-Null Count  Dtype  \n",
      "---  ------                          --------------  -----  \n",
      " 0   Unnamed: 0                      89311 non-null  int64  \n",
      " 1   Unnamed: 0.1                    89311 non-null  int64  \n",
      " 2   Unnamed: 0.1.1                  89311 non-null  int64  \n",
      " 3   ID                              89311 non-null  int64  \n",
      " 4   hotel                           89311 non-null  object \n",
      " 5   is_canceled                     89311 non-null  int64  \n",
      " 6   lead_time                       89311 non-null  int64  \n",
      " 7   arrival_date_year               89311 non-null  int64  \n",
      " 8   arrival_date_month              89311 non-null  object \n",
      " 9   arrival_date_week_number        89311 non-null  int64  \n",
      " 10  arrival_date_day_of_month       89311 non-null  int64  \n",
      " 11  stays_in_weekend_nights         89311 non-null  int64  \n",
      " 12  stays_in_week_nights            89311 non-null  int64  \n",
      " 13  adults                          89311 non-null  int64  \n",
      " 14  children                        89311 non-null  float64\n",
      " 15  babies                          89311 non-null  int64  \n",
      " 16  meal                            89311 non-null  object \n",
      " 17  country                         88862 non-null  object \n",
      " 18  market_segment                  89311 non-null  object \n",
      " 19  distribution_channel            89311 non-null  object \n",
      " 20  is_repeated_guest               89311 non-null  int64  \n",
      " 21  previous_cancellations          89311 non-null  int64  \n",
      " 22  previous_bookings_not_canceled  89311 non-null  int64  \n",
      " 23  reserved_room_type              89311 non-null  object \n",
      " 24  assigned_room_type              89311 non-null  object \n",
      " 25  booking_changes                 89311 non-null  int64  \n",
      " 26  deposit_type                    89311 non-null  object \n",
      " 27  agent                           76663 non-null  float64\n",
      " 28  company                         5352 non-null   float64\n",
      " 29  days_in_waiting_list            89311 non-null  int64  \n",
      " 30  customer_type                   89311 non-null  object \n",
      " 31  adr                             89311 non-null  float64\n",
      " 32  required_car_parking_spaces     89311 non-null  int64  \n",
      " 33  total_of_special_requests       89311 non-null  int64  \n",
      " 34  reservation_status              89311 non-null  object \n",
      " 35  reservation_status_date         89311 non-null  object \n",
      " 36  arrival_date                    89311 non-null  object \n",
      " 37  stays                           89311 non-null  int64  \n",
      " 38  expected_cost                   89311 non-null  float64\n",
      " 39  persons                         89311 non-null  float64\n",
      " 40  adr_pp                          89311 non-null  float64\n",
      "dtypes: float64(7), int64(21), object(13)\n",
      "memory usage: 27.9+ MB\n",
      "None\n",
      "<class 'pandas.core.frame.DataFrame'>\n",
      "RangeIndex: 640 entries, 0 to 639\n",
      "Data columns (total 2 columns):\n",
      " #   Column        Non-Null Count  Dtype  \n",
      "---  ------        --------------  -----  \n",
      " 0   arrival_date  640 non-null    object \n",
      " 1   label         640 non-null    float64\n",
      "dtypes: float64(1), object(1)\n",
      "memory usage: 10.1+ KB\n",
      "None\n"
     ]
    }
   ],
   "source": [
    "print(train_df.info())\n",
    "print(train_label_df.info())"
   ]
  },
  {
   "cell_type": "code",
   "execution_count": 4,
   "metadata": {},
   "outputs": [],
   "source": [
    "def getRevenue(row):\n",
    "    if row.is_canceled or row.adr < 0:\n",
    "        return 0\n",
    "    return row.adr * (row.stays_in_weekend_nights + row.stays_in_week_nights)"
   ]
  },
  {
   "cell_type": "code",
   "execution_count": 5,
   "metadata": {},
   "outputs": [],
   "source": [
    "train_df['revenue'] = train_df.apply(getRevenue, axis=1)"
   ]
  },
  {
   "cell_type": "code",
   "execution_count": 6,
   "metadata": {},
   "outputs": [],
   "source": [
    "monthMap = {'January':'1', 'February':'2', 'March':'3',\\\n",
    "            'April':'4', 'May':'5', 'June':'6',\\\n",
    "            'July':'7', 'August':'8', 'September':'9',\\\n",
    "            'October':'10', 'November':'11', 'December':'12'}\n",
    "def getArrivalDate(row):\n",
    "    return pd.to_datetime(str(row.arrival_date_year) + '-' + monthMap[row.arrival_date_month] + '-' + str(row.arrival_date_day_of_month))"
   ]
  },
  {
   "cell_type": "code",
   "execution_count": 7,
   "metadata": {},
   "outputs": [],
   "source": [
    "train_df['arrival_date'] = train_df.apply(getArrivalDate, axis=1)"
   ]
  },
  {
   "cell_type": "code",
   "execution_count": 8,
   "metadata": {},
   "outputs": [],
   "source": [
    "dailyRevenue_df = train_df.groupby(['arrival_date']).agg({'revenue': 'sum'})"
   ]
  },
  {
   "cell_type": "code",
   "execution_count": 9,
   "metadata": {},
   "outputs": [],
   "source": [
    "dailyRevenue_df = dailyRevenue_df.join(train_label_df.set_index('arrival_date'))"
   ]
  },
  {
   "cell_type": "code",
   "execution_count": 10,
   "metadata": {
    "scrolled": true
   },
   "outputs": [],
   "source": [
    "dailyRevenue_df = dailyRevenue_df.sort_values(by=['revenue'])"
   ]
  },
  {
   "cell_type": "code",
   "execution_count": 11,
   "metadata": {},
   "outputs": [
    {
     "data": {
      "image/png": "[encoded data removed]",
      "text/plain": [
       "<Figure size 432x288 with 1 Axes>"
      ]
     },
     "metadata": {
      "needs_background": "light"
     },
     "output_type": "display_data"
    }
   ],
   "source": [
    "#plt.plot(dailyRevenue_df['revenue'], dailyRevenue_df['label'])\n",
    "plt.scatter(dailyRevenue_df['revenue'], dailyRevenue_df['label'], s=0.5)\n",
    "plt.xticks(np.linspace(0,100000,11))\n",
    "plt.grid(True)\n",
    "plt.title(\"label vs revenue\")\n",
    "plt.xlabel(\"revenue\")\n",
    "plt.ylabel(\"label\")\n",
    "plt.show()"
   ]
  },
  {
   "cell_type": "code",
   "execution_count": 13,
   "metadata": {},
   "outputs": [],
   "source": [
    "# PCA analysis\n",
    "\n",
    "# Transforming the categoric columns\n",
    "cat_si_step = ('si', SimpleImputer(strategy='constant', fill_value='MISSING'))\n",
    "cat_ohe_step = ('ohe', OneHotEncoder(sparse=True, handle_unknown='ignore'))\n",
    "cat_steps = [cat_si_step, cat_ohe_step]\n",
    "cat_pipe = Pipeline(cat_steps)\n",
    "\n",
    "# Transforming the numeric columns\n",
    "num_si_step = ('si', SimpleImputer(strategy='median'))\n",
    "num_ss_step = ('ss', StandardScaler())\n",
    "num_steps = [num_si_step, num_ss_step]\n",
    "num_pipe = Pipeline(num_steps)\n",
    "\n",
    "adr_numericCols = ['lead_time', 'arrival_date_year', 'stays', 'stays_in_weekend_nights', 'stays_in_week_nights',\\\n",
    "               'adults', 'children', 'babies', 'persons', 'previous_cancellations',\\\n",
    "               'previous_bookings_not_canceled', 'booking_changes', 'days_in_waiting_list',\\\n",
    "               'required_car_parking_spaces', 'total_of_special_requests'\n",
    "              ]\n",
    "adr_categoricCols = ['hotel', 'arrival_date_month',\\\n",
    "                'arrival_date_week_number', 'arrival_date_day_of_month', 'meal',\\\n",
    "                'country', 'market_segment', 'distribution_channel',\\\n",
    "                'is_repeated_guest', 'reserved_room_type', 'assigned_room_type',\\\n",
    "                'deposit_type', 'customer_type'\n",
    "               ]\n",
    "\n",
    "adr_featureCols = adr_numericCols + adr_categoricCols"
   ]
  },
  {
   "cell_type": "code",
   "execution_count": 14,
   "metadata": {},
   "outputs": [],
   "source": [
    "adr_train = train_df[adr_featureCols]"
   ]
  },
  {
   "cell_type": "code",
   "execution_count": 15,
   "metadata": {},
   "outputs": [],
   "source": [
    "adr_ct = ColumnTransformer(transformers=[('cat', cat_pipe, adr_categoricCols), ('num', num_pipe, adr_numericCols)])\n",
    "adr_train_transformed = adr_ct.fit_transform(adr_train)"
   ]
  },
  {
   "cell_type": "code",
   "execution_count": 16,
   "metadata": {},
   "outputs": [],
   "source": [
    "adr_svd = TruncatedSVD(n_components=300)"
   ]
  },
  {
   "cell_type": "code",
   "execution_count": 17,
   "metadata": {},
   "outputs": [
    {
     "data": {
      "text/plain": [
       "TruncatedSVD(n_components=300)"
      ]
     },
     "execution_count": 17,
     "metadata": {},
     "output_type": "execute_result"
    }
   ],
   "source": [
    "adr_svd.fit(adr_train_transformed)"
   ]
  },
  {
   "cell_type": "code",
   "execution_count": 18,
   "metadata": {},
   "outputs": [
    {
     "name": "stdout",
     "output_type": "stream",
     "text": [
      "[0.00525026 0.13316543 0.22551388 0.30025867 0.35435088 0.40416586\n",
      " 0.45207441 0.49823521 0.54208088 0.58222282 0.62117499 0.65635446\n",
      " 0.68897629 0.71356751 0.73401048 0.7516571  0.76771393 0.78164492\n",
      " 0.7926512  0.80285679 0.8117084  0.81824556 0.82460813 0.83057253\n",
      " 0.83619367 0.84148388 0.84639086 0.85099185 0.85519759 0.85935527\n",
      " 0.86334047 0.86721354 0.87083998 0.87437494 0.87769236 0.88089644\n",
      " 0.88407514 0.88698862 0.88966116 0.89224617 0.89453845 0.89678792\n",
      " 0.89900671 0.90117709 0.90318214 0.9051541  0.90706508 0.90890914\n",
      " 0.91066019 0.91236976 0.91403842 0.91570236 0.91732747 0.91894799\n",
      " 0.92054776 0.92211986 0.92368441 0.92522748 0.92676239 0.9282823\n",
      " 0.9297887  0.93128179 0.93277401 0.93425407 0.93572459 0.93716832\n",
      " 0.93860198 0.94003285 0.94145625 0.94286931 0.94428082 0.94565377\n",
      " 0.94701826 0.94837885 0.94970973 0.9509585  0.95220551 0.95340287\n",
      " 0.95456878 0.9557085  0.95682185 0.95790091 0.95894459 0.95997611\n",
      " 0.96100026 0.96201409 0.96300344 0.96397943 0.96494768 0.96590516\n",
      " 0.96685115 0.96776972 0.96867053 0.96956788 0.97043031 0.97125509\n",
      " 0.97207412 0.97286764 0.97364962 0.9744281  0.97520206 0.97595786\n",
      " 0.97670918 0.97744034 0.97815587 0.97886422 0.9795621  0.98025638\n",
      " 0.98094375 0.98161725 0.982278   0.98292591 0.98357154 0.98419291\n",
      " 0.98480797 0.98542051 0.98602053 0.98660109 0.98716888 0.98772894\n",
      " 0.98827107 0.98879454 0.98930347 0.98979933 0.99028549 0.99076823\n",
      " 0.99122907 0.99164717 0.9920481  0.99242426 0.99279542 0.99315341\n",
      " 0.99350346 0.99385283 0.99419492 0.99446252 0.99472813 0.99495759\n",
      " 0.9951766  0.99539194 0.99559425 0.99578343 0.99595773 0.9961317\n",
      " 0.99630192 0.99646838 0.99662459 0.99677491 0.99691474 0.99704008\n",
      " 0.99716403 0.99728497 0.99740295 0.99751533 0.99761568 0.99771463\n",
      " 0.99781087 0.9979035  0.99799451 0.99808007 0.99816485 0.99824399\n",
      " 0.9983222  0.9983996  0.99847601 0.99855093 0.99861954 0.99867982\n",
      " 0.99873804 0.99879143 0.99884253 0.99888821 0.99893171 0.99897378\n",
      " 0.99901165 0.99904803 0.99908236 0.99911572 0.99914815 0.99917867\n",
      " 0.99920827 0.9992365  0.99926471 0.99929255 0.99931984 0.9993462\n",
      " 0.99937169 0.99939662 0.99942128 0.99944468 0.99946602 0.99948648\n",
      " 0.99950663 0.99952605 0.99954515 0.99956301 0.99957986 0.99959626\n",
      " 0.99961183 0.99962693 0.99964107 0.99965474 0.99966795 0.99968055\n",
      " 0.99969241 0.99970374 0.99971482 0.99972551 0.99973571 0.99974541\n",
      " 0.9997546  0.9997633  0.99977156 0.99977963 0.99978729 0.99979448\n",
      " 0.99980133 0.99980788 0.99981443 0.99982096 0.99982717 0.99983321\n",
      " 0.99983926 0.99984497 0.99985052 0.99985606 0.99986159 0.99986672\n",
      " 0.99987175 0.99987674 0.99988134 0.99988587 0.99989003 0.99989406\n",
      " 0.99989809 0.9999021  0.99990577 0.99990939 0.99991292 0.99991645\n",
      " 0.99991998 0.9999235  0.99992701 0.99993047 0.99993354 0.99993656\n",
      " 0.99993917 0.99994169 0.99994421 0.99994673 0.9999488  0.99995082\n",
      " 0.99995283 0.9999545  0.99995601 0.99995752 0.99995904 0.99996055\n",
      " 0.99996206 0.99996357 0.99996509 0.9999666  0.99996811 0.99996962\n",
      " 0.99997113 0.99997263 0.99997371 0.99997472 0.99997573 0.99997674\n",
      " 0.99997775 0.99997875 0.99997976 0.99998077 0.99998178 0.99998278\n",
      " 0.99998374 0.99998434 0.99998493 0.99998543 0.99998594 0.99998644\n",
      " 0.99998695 0.99998745 0.99998795 0.99998846 0.99998896 0.99998947\n",
      " 0.99998997 0.99999048 0.99999098 0.99999149 0.99999199 0.9999925\n",
      " 0.999993   0.9999935  0.99999401 0.99999451 0.99999502 0.99999552]\n"
     ]
    }
   ],
   "source": [
    "print(np.cumsum(adr_svd.explained_variance_ratio_))"
   ]
  },
  {
   "cell_type": "code",
   "execution_count": null,
   "metadata": {},
   "outputs": [],
   "source": []
  }
 ],
 "metadata": {
  "environment": {
   "name": "tf2-2-3-gpu.2-3.m59",
   "type": "gcloud",
   "uri": "gcr.io/deeplearning-platform-release/tf2-2-3-gpu.2-3:m59"
  },
  "kernelspec": {
   "display_name": "Python 3",
   "language": "python",
   "name": "python3"
  },
  "language_info": {
   "codemirror_mode": {
    "name": "ipython",
    "version": 3
   },
   "file_extension": ".py",
   "mimetype": "text/x-python",
   "name": "python",
   "nbconvert_exporter": "python",
   "pygments_lexer": "ipython3",
   "version": "3.7.8"
  }
 },
 "nbformat": 4,
 "nbformat_minor": 4
}
