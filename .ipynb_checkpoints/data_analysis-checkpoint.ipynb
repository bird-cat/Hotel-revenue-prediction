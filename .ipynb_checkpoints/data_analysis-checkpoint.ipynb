{
 "cells": [
  {
   "cell_type": "code",
   "execution_count": 1,
   "metadata": {},
   "outputs": [],
   "source": [
    "import numpy as np\n",
    "import pandas as pd\n",
    "import matplotlib.pyplot as plt"
   ]
  },
  {
   "cell_type": "code",
   "execution_count": 2,
   "metadata": {},
   "outputs": [],
   "source": [
    "train_df = pd.read_csv(\"train.csv\")\n",
    "train_label_df = pd.read_csv(\"train_label.csv\")"
   ]
  },
  {
   "cell_type": "code",
   "execution_count": 3,
   "metadata": {},
   "outputs": [
    {
     "name": "stdout",
     "output_type": "stream",
     "text": [
      "<class 'pandas.core.frame.DataFrame'>\n",
      "RangeIndex: 91531 entries, 0 to 91530\n",
      "Data columns (total 33 columns):\n",
      " #   Column                          Non-Null Count  Dtype  \n",
      "---  ------                          --------------  -----  \n",
      " 0   ID                              91531 non-null  int64  \n",
      " 1   hotel                           91531 non-null  object \n",
      " 2   is_canceled                     91531 non-null  int64  \n",
      " 3   lead_time                       91531 non-null  int64  \n",
      " 4   arrival_date_year               91531 non-null  int64  \n",
      " 5   arrival_date_month              91531 non-null  object \n",
      " 6   arrival_date_week_number        91531 non-null  int64  \n",
      " 7   arrival_date_day_of_month       91531 non-null  int64  \n",
      " 8   stays_in_weekend_nights         91531 non-null  int64  \n",
      " 9   stays_in_week_nights            91531 non-null  int64  \n",
      " 10  adults                          91531 non-null  int64  \n",
      " 11  children                        91527 non-null  float64\n",
      " 12  babies                          91531 non-null  int64  \n",
      " 13  meal                            91531 non-null  object \n",
      " 14  country                         91063 non-null  object \n",
      " 15  market_segment                  91531 non-null  object \n",
      " 16  distribution_channel            91531 non-null  object \n",
      " 17  is_repeated_guest               91531 non-null  int64  \n",
      " 18  previous_cancellations          91531 non-null  int64  \n",
      " 19  previous_bookings_not_canceled  91531 non-null  int64  \n",
      " 20  reserved_room_type              91531 non-null  object \n",
      " 21  assigned_room_type              91531 non-null  object \n",
      " 22  booking_changes                 91531 non-null  int64  \n",
      " 23  deposit_type                    91531 non-null  object \n",
      " 24  agent                           78314 non-null  float64\n",
      " 25  company                         5614 non-null   float64\n",
      " 26  days_in_waiting_list            91531 non-null  int64  \n",
      " 27  customer_type                   91531 non-null  object \n",
      " 28  adr                             91531 non-null  float64\n",
      " 29  required_car_parking_spaces     91531 non-null  int64  \n",
      " 30  total_of_special_requests       91531 non-null  int64  \n",
      " 31  reservation_status              91531 non-null  object \n",
      " 32  reservation_status_date         91531 non-null  object \n",
      "dtypes: float64(4), int64(17), object(12)\n",
      "memory usage: 23.0+ MB\n",
      "<class 'pandas.core.frame.DataFrame'>\n",
      "RangeIndex: 640 entries, 0 to 639\n",
      "Data columns (total 2 columns):\n",
      " #   Column        Non-Null Count  Dtype  \n",
      "---  ------        --------------  -----  \n",
      " 0   arrival_date  640 non-null    object \n",
      " 1   label         640 non-null    float64\n",
      "dtypes: float64(1), object(1)\n",
      "memory usage: 10.1+ KB\n"
     ]
    }
   ],
   "source": [
    "print(train_df.info())\n",
    "print(train_label_df.info())"
   ]
  },
  {
   "cell_type": "code",
   "execution_count": 4,
   "metadata": {},
   "outputs": [],
   "source": [
    "def getRevenue(row):\n",
    "    if row.is_canceled or row.adr < 0:\n",
    "        return 0\n",
    "    return row.adr * (row.stays_in_weekend_nights + row.stays_in_week_nights)"
   ]
  },
  {
   "cell_type": "code",
   "execution_count": 5,
   "metadata": {},
   "outputs": [],
   "source": [
    "train_df['revenue'] = train_df.apply(getRevenue, axis=1)"
   ]
  },
  {
   "cell_type": "code",
   "execution_count": 6,
   "metadata": {},
   "outputs": [],
   "source": [
    "monthMap = {'January':'1', 'February':'2', 'March':'3',\\\n",
    "            'April':'4', 'May':'5', 'June':'6',\\\n",
    "            'July':'7', 'August':'8', 'September':'9',\\\n",
    "            'October':'10', 'November':'11', 'December':'12'}\n",
    "def getArrivalDate(row):\n",
    "    return pd.to_datetime(str(row.arrival_date_year) + '-' + monthMap[row.arrival_date_month] + '-' + str(row.arrival_date_day_of_month))"
   ]
  },
  {
   "cell_type": "code",
   "execution_count": 7,
   "metadata": {},
   "outputs": [],
   "source": [
    "train_df['arrival_date'] = train_df.apply(getArrivalDate, axis=1)"
   ]
  },
  {
   "cell_type": "code",
   "execution_count": 8,
   "metadata": {},
   "outputs": [],
   "source": [
    "dailyRevenue_df = train_df.groupby(['arrival_date']).agg({'revenue': 'sum'})"
   ]
  },
  {
   "cell_type": "code",
   "execution_count": 9,
   "metadata": {},
   "outputs": [],
   "source": [
    "dailyRevenue_df = dailyRevenue_df.join(train_label_df.set_index('arrival_date'))"
   ]
  },
  {
   "cell_type": "code",
   "execution_count": 10,
   "metadata": {
    "scrolled": true
   },
   "outputs": [],
   "source": [
    "dailyRevenue_df = dailyRevenue_df.sort_values(by=['revenue'])"
   ]
  },
  {
   "cell_type": "code",
   "execution_count": 11,
   "metadata": {},
   "outputs": [
    {
     "data": {
      "image/png": "[encoded data removed]",
      "text/plain": [
       "<Figure size 432x288 with 1 Axes>"
      ]
     },
     "metadata": {
      "needs_background": "light"
     },
     "output_type": "display_data"
    }
   ],
   "source": [
    "#plt.plot(dailyRevenue_df['revenue'], dailyRevenue_df['label'])\n",
    "plt.scatter(dailyRevenue_df['revenue'], dailyRevenue_df['label'], s=0.5)\n",
    "plt.xticks(np.linspace(0,100000,11))\n",
    "plt.grid(True)\n",
    "plt.title(\"label vs revenue\")\n",
    "plt.xlabel(\"revenue\")\n",
    "plt.ylabel(\"label\")\n",
    "plt.show()"
   ]
  }
 ],
 "metadata": {
  "kernelspec": {
   "display_name": "Python 3",
   "language": "python",
   "name": "python3"
  },
  "language_info": {
   "codemirror_mode": {
    "name": "ipython",
    "version": 3
   },
   "file_extension": ".py",
   "mimetype": "text/x-python",
   "name": "python",
   "nbconvert_exporter": "python",
   "pygments_lexer": "ipython3",
   "version": "3.8.6"
  }
 },
 "nbformat": 4,
 "nbformat_minor": 4
}
