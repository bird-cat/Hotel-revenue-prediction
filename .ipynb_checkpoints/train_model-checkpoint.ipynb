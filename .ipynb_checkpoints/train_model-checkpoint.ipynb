{
 "cells": [
  {
   "cell_type": "code",
   "execution_count": 144,
   "metadata": {},
   "outputs": [],
   "source": [
    "import numpy as np\n",
    "import pandas as pd\n",
    "import matplotlib.pyplot as plt\n",
    "from sklearn.impute import SimpleImputer\n",
    "from sklearn.preprocessing import OneHotEncoder, StandardScaler, PolynomialFeatures\n",
    "from sklearn.feature_selection import VarianceThreshold\n",
    "from sklearn.pipeline import Pipeline\n",
    "from sklearn.compose import ColumnTransformer\n",
    "from sklearn.decomposition import TruncatedSVD\n",
    "from sklearn.metrics import make_scorer, confusion_matrix\n",
    "from sklearn.linear_model import LogisticRegression\n",
    "from sklearn.svm import SVC\n",
    "from sklearn.model_selection import KFold, cross_val_score, GridSearchCV"
   ]
  },
  {
   "cell_type": "code",
   "execution_count": 88,
   "metadata": {},
   "outputs": [],
   "source": [
    "# Import data\n",
    "train_df = pd.read_csv(\"train.csv\")\n",
    "test_df = pd.read_csv(\"test.csv\")\n",
    "train_label_df = pd.read_csv('train_label.csv')"
   ]
  },
  {
   "cell_type": "code",
   "execution_count": 90,
   "metadata": {},
   "outputs": [],
   "source": [
    "# Analyze invalid data\n",
    "invalid_data = train_df[train_df.adr < 0]\n",
    "invalid_data['arrival_date'] = invalid_data.apply(getArrivalDate, axis=1)\n",
    "invalid_data['stays'] = invalid_data.apply(lambda row: row.stays_in_weekend_nights + row.stays_in_week_nights, axis=1)\n",
    "invalid_data['expected_cost'] = invalid_data.apply(lambda row: row.adr * row.stays, axis=1)\n",
    "\n",
    "print(train_df['arrival_date'].value_counts())\n",
    "print(invalid_data['arrival_date'].value_counts())\n",
    "print(invalid_data['is_canceled'].value_counts())"
   ]
  },
  {
   "cell_type": "code",
   "execution_count": 99,
   "metadata": {},
   "outputs": [],
   "source": [
    "# clean invalid data\n",
    "train_df.drop(train_df[train_df.adr < 0].index, inplace=True)\n",
    "train_df.reset_index(drop=True, inplace=True)"
   ]
  },
  {
   "cell_type": "code",
   "execution_count": 111,
   "metadata": {},
   "outputs": [
    {
     "data": {
      "text/plain": [
       "(89424, 37)"
      ]
     },
     "execution_count": 111,
     "metadata": {},
     "output_type": "execute_result"
    }
   ],
   "source": [
    "train_df.shape"
   ]
  },
  {
   "cell_type": "code",
   "execution_count": 112,
   "metadata": {},
   "outputs": [],
   "source": [
    "# feature transform\n",
    "monthMap = {'January':'1', 'February':'2', 'March':'3',\\\n",
    "            'April':'4', 'May':'5', 'June':'6',\\\n",
    "            'July':'7', 'August':'8', 'September':'9',\\\n",
    "            'October':'10', 'November':'11', 'December':'12'}\n",
    "def getArrivalDate(row):\n",
    "    return pd.to_datetime(str(row.arrival_date_year) + '-' + monthMap[row.arrival_date_month] + '-' + str(row.arrival_date_day_of_month))\n",
    "\n",
    "train_df['arrival_date'] = train_df.apply(getArrivalDate, axis=1)\n",
    "train_df['stays'] = train_df.apply(lambda row: row.stays_in_weekend_nights + row.stays_in_week_nights, axis=1)\n",
    "train_df['expected_cost'] = train_df.apply(lambda row: row.adr * row.stays, axis=1)"
   ]
  },
  {
   "cell_type": "code",
   "execution_count": 113,
   "metadata": {},
   "outputs": [],
   "source": [
    "# Get the target variable from the training set\n",
    "label = train_df['is_canceled']"
   ]
  },
  {
   "cell_type": "code",
   "execution_count": 114,
   "metadata": {},
   "outputs": [],
   "source": [
    "numericCols = ['lead_time', 'stays', 'stays_in_weekend_nights', 'stays_in_week_nights',\\\n",
    "               'adults', 'children', 'babies', 'previous_cancellations',\\\n",
    "               'previous_bookings_not_canceled', 'booking_changes', 'days_in_waiting_list',\\\n",
    "               'adr', 'expected_cost', 'required_car_parking_spaces', 'total_of_special_requests'\n",
    "              ]\n",
    "categoryCols = ['hotel', 'arrival_date_year', 'arrival_date_month',\\\n",
    "                'arrival_date_week_number', 'arrival_date_day_of_month', 'meal',\\\n",
    "                'country', 'market_segment', 'distribution_channel',\\\n",
    "                'is_repeated_guest', 'reserved_room_type', 'assigned_room_type',\\\n",
    "                'deposit_type', 'customer_type'\n",
    "               ]\n",
    "featureCols = numericCols + categoryCols"
   ]
  },
  {
   "cell_type": "code",
   "execution_count": 115,
   "metadata": {},
   "outputs": [],
   "source": [
    "# ColumnTransformer\n",
    "\n",
    "# Transforming the categoric columns\n",
    "cat_si_step = ('si', SimpleImputer(strategy='constant', fill_value='MISSING'))\n",
    "cat_ohe_step = ('ohe', OneHotEncoder(sparse=True, handle_unknown='ignore'))\n",
    "cat_steps = [cat_si_step, cat_ohe_step]\n",
    "cat_pipe = Pipeline(cat_steps)\n",
    "\n",
    "cat_transformers = [('cat', cat_pipe, categoryCols)]\n",
    "cat_ct = ColumnTransformer(transformers=cat_transformers)\n",
    "\n",
    "train_cat_transformed = cat_ct.fit_transform(train_df)"
   ]
  },
  {
   "cell_type": "code",
   "execution_count": 116,
   "metadata": {},
   "outputs": [],
   "source": [
    "# Transforming the numeric columns\n",
    "num_si_step = ('si', SimpleImputer(strategy='median'))\n",
    "num_ss_step = ('ss', StandardScaler())\n",
    "num_steps = [num_si_step, num_ss_step]\n",
    "num_pipe = Pipeline(num_steps)\n",
    "\n",
    "num_transformers = [('num', num_pipe, numericCols)]\n",
    "num_ct = ColumnTransformer(transformers=num_transformers)\n",
    "\n",
    "train_num_transformed = num_ct.fit_transform(train_df)"
   ]
  },
  {
   "cell_type": "code",
   "execution_count": 117,
   "metadata": {},
   "outputs": [
    {
     "name": "stdout",
     "output_type": "stream",
     "text": [
      "Total number of features =  329\n"
     ]
    }
   ],
   "source": [
    "# Retrieving the feature names\n",
    "cat_pl = cat_ct.named_transformers_['cat']\n",
    "ohe = cat_pl.named_steps['ohe']\n",
    "transformed_feature_names = list(ohe.get_feature_names()) + numericCols\n",
    "print(\"Total number of features = \", len(transformed_feature_names))"
   ]
  },
  {
   "cell_type": "code",
   "execution_count": 118,
   "metadata": {},
   "outputs": [],
   "source": [
    "# Combining both categorical and numerical column transformations\n",
    "ct = ColumnTransformer(transformers=[('cat', cat_pipe, categoryCols), ('num', num_pipe, numericCols)])\n",
    "train_transformed = ct.fit_transform(train_df)"
   ]
  },
  {
   "cell_type": "code",
   "execution_count": 119,
   "metadata": {},
   "outputs": [],
   "source": [
    "# feature selection\n",
    "sel = VarianceThreshold(threshold=(.9 * (1 - .9)))\n",
    "#rfe = RFE(estimator=lr, n_features_to_select=5, step=1)"
   ]
  },
  {
   "cell_type": "code",
   "execution_count": 120,
   "metadata": {},
   "outputs": [],
   "source": [
    "# SVD\n",
    "svd = TruncatedSVD(n_components=5) # best 60"
   ]
  },
  {
   "cell_type": "code",
   "execution_count": 12,
   "metadata": {},
   "outputs": [],
   "source": [
    "# Self-defined loss function\n",
    "def weighted_zero_one_loss(weights):\n",
    "    def custom_loss(y_true, y_pred):\n",
    "        #print(y_true)\n",
    "        return np.sum(np.abs(y_true - y_pred) * weights[list(y_true.index)])\n",
    "    return custom_loss\n",
    "\n",
    "my_loss = make_scorer(weighted_zero_one_loss(weights=train_df['expected_cost'].to_numpy()), greater_is_better=False)"
   ]
  },
  {
   "cell_type": "code",
   "execution_count": 122,
   "metadata": {},
   "outputs": [],
   "source": [
    "# Logistic regression\n",
    "lr = LogisticRegression(penalty='l2', C=75.0, max_iter=4000)"
   ]
  },
  {
   "cell_type": "code",
   "execution_count": 123,
   "metadata": {},
   "outputs": [
    {
     "data": {
      "text/plain": [
       "0.8305935766684559"
      ]
     },
     "execution_count": 123,
     "metadata": {},
     "output_type": "execute_result"
    }
   ],
   "source": [
    "# Execute pipeline\n",
    "lr_pipe = Pipeline([('transform', ct), ('lr', lr)])\n",
    "lr_pipe.fit(train_df, label)\n",
    "lr_pipe.score(train_df, label)"
   ]
  },
  {
   "cell_type": "code",
   "execution_count": 41,
   "metadata": {},
   "outputs": [
    {
     "name": "stdout",
     "output_type": "stream",
     "text": [
      "{'lr__C': 10.0, 'lr__penalty': 'l2', 'transform__num__si__strategy': 'median'}\n",
      "-986044.5916580657\n",
      "   mean_fit_time  std_fit_time  mean_score_time  std_score_time param_lr__C  \\\n",
      "0      10.169332      0.445680         0.099154        0.001317          10   \n",
      "1      11.554647      0.372301         0.098569        0.001424          20   \n",
      "2      13.417581      1.059835         0.099304        0.001266          30   \n",
      "3      14.146114      1.277192         0.098617        0.000393          40   \n",
      "4      14.946802      0.991918         0.098880        0.001743          50   \n",
      "\n",
      "  param_lr__penalty param_transform__num__si__strategy  \\\n",
      "0                l2                             median   \n",
      "1                l2                             median   \n",
      "2                l2                             median   \n",
      "3                l2                             median   \n",
      "4                l2                             median   \n",
      "\n",
      "                                              params  split0_test_score  \\\n",
      "0  {'lr__C': 10.0, 'lr__penalty': 'l2', 'transfor...     -985861.191004   \n",
      "1  {'lr__C': 20.0, 'lr__penalty': 'l2', 'transfor...     -989803.993032   \n",
      "2  {'lr__C': 30.0, 'lr__penalty': 'l2', 'transfor...     -989545.364160   \n",
      "3  {'lr__C': 40.0, 'lr__penalty': 'l2', 'transfor...     -990697.204295   \n",
      "4  {'lr__C': 50.0, 'lr__penalty': 'l2', 'transfor...     -992006.264955   \n",
      "\n",
      "   split1_test_score  split2_test_score  split3_test_score  split4_test_score  \\\n",
      "0      -1.010777e+06     -988221.539614     -981027.140922     -964335.946572   \n",
      "1      -1.011738e+06     -984852.711853     -979733.770721     -965121.025021   \n",
      "2      -1.011042e+06     -984960.588583     -979048.670414     -966862.314463   \n",
      "3      -1.009438e+06     -985404.902467     -977913.498838     -967710.550970   \n",
      "4      -1.009803e+06     -984599.338759     -978033.973721     -967909.426621   \n",
      "\n",
      "   mean_test_score  std_test_score  rank_test_score  \n",
      "0   -986044.591658    14919.194200                1  \n",
      "1   -986249.979641    15186.418403                3  \n",
      "2   -986291.764105    14525.097189                4  \n",
      "3   -986232.897351    13938.417644                2  \n",
      "4   -986470.447275    14101.423730                5  \n"
     ]
    }
   ],
   "source": [
    "# Cross-Validation\n",
    "kf = KFold(n_splits=5, shuffle=True, random_state=1126)\n",
    "#cross_val_score(ml_pipe, train_df, label, cv=kf).mean()\n",
    "\n",
    "# Selecting parameters when Grid Searching\n",
    "param_grid = {\n",
    "    'transform__num__si__strategy': ['median'],\n",
    "    #'svd__n_components': [60, 70],\n",
    "    'lr__penalty': ['l2'],\n",
    "    'lr__C': [10.0, 20.0, 30.0, 40.0, 50.0]\n",
    "}\n",
    "\n",
    "gs = GridSearchCV(lr_pipe, param_grid, cv=kf)\n",
    "gs.fit(train_df, label)\n",
    "\n",
    "print(gs.best_params_)\n",
    "print(gs.best_score_)\n",
    "\n",
    "# Getting all the grid search results in a Pandas DataFrame\n",
    "print(pd.DataFrame(gs.cv_results_))"
   ]
  },
  {
   "cell_type": "code",
   "execution_count": 17,
   "metadata": {},
   "outputs": [
    {
     "data": {
      "text/plain": [
       "0.7430220075147611"
      ]
     },
     "execution_count": 17,
     "metadata": {},
     "output_type": "execute_result"
    }
   ],
   "source": [
    "# SVM\n",
    "svc = SVC(C=1.0, kernel='linear', gamma='scale')\n",
    "svc_pipe = Pipeline([('transform', ct), ('svd', svd), ('svc', svc)])\n",
    "svc_pipe.fit(train_df, label)\n",
    "svc_pipe.score(train_df, label)"
   ]
  },
  {
   "cell_type": "code",
   "execution_count": 124,
   "metadata": {},
   "outputs": [
    {
     "name": "stdout",
     "output_type": "stream",
     "text": [
      "0    63593\n",
      "1    25831\n",
      "Name: will_be_canceled, dtype: int64\n"
     ]
    }
   ],
   "source": [
    "will_be_canceled = lr_pipe.predict(train_df)\n",
    "will_be_canceled = pd.Series(will_be_canceled)\n",
    "\n",
    "train_df['will_be_canceled'] = will_be_canceled\n",
    "print(train_df['will_be_canceled'].value_counts())"
   ]
  },
  {
   "cell_type": "code",
   "execution_count": 145,
   "metadata": {},
   "outputs": [
    {
     "name": "stdout",
     "output_type": "stream",
     "text": [
      "[[52993 10600]\n",
      " [ 4549 21282]]\n"
     ]
    }
   ],
   "source": [
    "# Stage 1 analysis\n",
    "print(confusion_matrix(train_df['will_be_canceled'], train_df['is_canceled']))"
   ]
  },
  {
   "cell_type": "code",
   "execution_count": 125,
   "metadata": {},
   "outputs": [],
   "source": [
    "def getRevenue(row):\n",
    "    if row.is_canceled:\n",
    "        return 0\n",
    "    return row.expected_cost\n",
    "\n",
    "def predictRevenue(row):\n",
    "    return (1.0 - row.will_be_canceled) * row.expected_cost"
   ]
  },
  {
   "cell_type": "code",
   "execution_count": 126,
   "metadata": {},
   "outputs": [],
   "source": [
    "# Post process\n",
    "train_df['revenue'] = train_df.apply(getRevenue, axis=1)\n",
    "train_df['predicted_revenue'] = train_df.apply(predictRevenue, axis=1)"
   ]
  },
  {
   "cell_type": "code",
   "execution_count": 127,
   "metadata": {},
   "outputs": [],
   "source": [
    "# Aggregate by date\n",
    "daily_revenue_df = train_df.groupby(['arrival_date']).agg({'revenue':'sum', 'predicted_revenue':'sum'})"
   ]
  },
  {
   "cell_type": "code",
   "execution_count": 128,
   "metadata": {},
   "outputs": [],
   "source": [
    "bins = [0, 10000, 20000, 30000, 40000, 50000, 60000, 70000, 80000, 90000, 100000]\n",
    "labels = [0, 1, 2, 3, 4, 5, 6, 7, 8, 9]\n",
    "daily_revenue_df['calculated_label'] = pd.cut(daily_revenue_df.revenue, bins=bins,labels=labels)\n",
    "daily_revenue_df['predicted_label'] = pd.cut(daily_revenue_df.predicted_revenue, bins=bins,labels=labels)"
   ]
  },
  {
   "cell_type": "code",
   "execution_count": 129,
   "metadata": {},
   "outputs": [
    {
     "data": {
      "text/html": [
       "<div>\n",
       "<style scoped>\n",
       "    .dataframe tbody tr th:only-of-type {\n",
       "        vertical-align: middle;\n",
       "    }\n",
       "\n",
       "    .dataframe tbody tr th {\n",
       "        vertical-align: top;\n",
       "    }\n",
       "\n",
       "    .dataframe thead th {\n",
       "        text-align: right;\n",
       "    }\n",
       "</style>\n",
       "<table border=\"1\" class=\"dataframe\">\n",
       "  <thead>\n",
       "    <tr style=\"text-align: right;\">\n",
       "      <th></th>\n",
       "      <th>revenue</th>\n",
       "      <th>predicted_revenue</th>\n",
       "      <th>calculated_label</th>\n",
       "      <th>predicted_label</th>\n",
       "    </tr>\n",
       "    <tr>\n",
       "      <th>arrival_date</th>\n",
       "      <th></th>\n",
       "      <th></th>\n",
       "      <th></th>\n",
       "      <th></th>\n",
       "    </tr>\n",
       "  </thead>\n",
       "  <tbody>\n",
       "    <tr>\n",
       "      <th>2015-07-01</th>\n",
       "      <td>20317.720355</td>\n",
       "      <td>21151.889054</td>\n",
       "      <td>2</td>\n",
       "      <td>2</td>\n",
       "    </tr>\n",
       "    <tr>\n",
       "      <th>2015-07-02</th>\n",
       "      <td>16530.645277</td>\n",
       "      <td>19040.399816</td>\n",
       "      <td>1</td>\n",
       "      <td>1</td>\n",
       "    </tr>\n",
       "    <tr>\n",
       "      <th>2015-07-03</th>\n",
       "      <td>12989.951853</td>\n",
       "      <td>17136.097402</td>\n",
       "      <td>1</td>\n",
       "      <td>1</td>\n",
       "    </tr>\n",
       "    <tr>\n",
       "      <th>2015-07-04</th>\n",
       "      <td>17488.551606</td>\n",
       "      <td>15065.486549</td>\n",
       "      <td>1</td>\n",
       "      <td>1</td>\n",
       "    </tr>\n",
       "    <tr>\n",
       "      <th>2015-07-05</th>\n",
       "      <td>19591.458478</td>\n",
       "      <td>20241.138995</td>\n",
       "      <td>1</td>\n",
       "      <td>2</td>\n",
       "    </tr>\n",
       "    <tr>\n",
       "      <th>...</th>\n",
       "      <td>...</td>\n",
       "      <td>...</td>\n",
       "      <td>...</td>\n",
       "      <td>...</td>\n",
       "    </tr>\n",
       "    <tr>\n",
       "      <th>2017-03-27</th>\n",
       "      <td>26217.381380</td>\n",
       "      <td>29834.381779</td>\n",
       "      <td>2</td>\n",
       "      <td>2</td>\n",
       "    </tr>\n",
       "    <tr>\n",
       "      <th>2017-03-28</th>\n",
       "      <td>16185.177703</td>\n",
       "      <td>16927.454674</td>\n",
       "      <td>1</td>\n",
       "      <td>1</td>\n",
       "    </tr>\n",
       "    <tr>\n",
       "      <th>2017-03-29</th>\n",
       "      <td>24002.255525</td>\n",
       "      <td>27352.011096</td>\n",
       "      <td>2</td>\n",
       "      <td>2</td>\n",
       "    </tr>\n",
       "    <tr>\n",
       "      <th>2017-03-30</th>\n",
       "      <td>33327.810920</td>\n",
       "      <td>39426.908779</td>\n",
       "      <td>3</td>\n",
       "      <td>3</td>\n",
       "    </tr>\n",
       "    <tr>\n",
       "      <th>2017-03-31</th>\n",
       "      <td>36130.595184</td>\n",
       "      <td>41152.181686</td>\n",
       "      <td>3</td>\n",
       "      <td>4</td>\n",
       "    </tr>\n",
       "  </tbody>\n",
       "</table>\n",
       "<p>640 rows × 4 columns</p>\n",
       "</div>"
      ],
      "text/plain": [
       "                   revenue  predicted_revenue calculated_label predicted_label\n",
       "arrival_date                                                                  \n",
       "2015-07-01    20317.720355       21151.889054                2               2\n",
       "2015-07-02    16530.645277       19040.399816                1               1\n",
       "2015-07-03    12989.951853       17136.097402                1               1\n",
       "2015-07-04    17488.551606       15065.486549                1               1\n",
       "2015-07-05    19591.458478       20241.138995                1               2\n",
       "...                    ...                ...              ...             ...\n",
       "2017-03-27    26217.381380       29834.381779                2               2\n",
       "2017-03-28    16185.177703       16927.454674                1               1\n",
       "2017-03-29    24002.255525       27352.011096                2               2\n",
       "2017-03-30    33327.810920       39426.908779                3               3\n",
       "2017-03-31    36130.595184       41152.181686                3               4\n",
       "\n",
       "[640 rows x 4 columns]"
      ]
     },
     "execution_count": 129,
     "metadata": {},
     "output_type": "execute_result"
    }
   ],
   "source": [
    "daily_revenue_df"
   ]
  },
  {
   "cell_type": "code",
   "execution_count": 130,
   "metadata": {},
   "outputs": [],
   "source": [
    "labels = daily_revenue_df.join(train_label_df.set_index('arrival_date'), how='inner')"
   ]
  },
  {
   "cell_type": "code",
   "execution_count": 131,
   "metadata": {},
   "outputs": [],
   "source": [
    "labels['calculated_err'] = labels.apply(lambda row: abs(row.calculated_label - row.label), axis=1)\n",
    "labels['err'] = labels.apply(lambda row: abs(row.predicted_label - row.label), axis=1)"
   ]
  },
  {
   "cell_type": "code",
   "execution_count": 132,
   "metadata": {},
   "outputs": [
    {
     "data": {
      "text/html": [
       "<div>\n",
       "<style scoped>\n",
       "    .dataframe tbody tr th:only-of-type {\n",
       "        vertical-align: middle;\n",
       "    }\n",
       "\n",
       "    .dataframe tbody tr th {\n",
       "        vertical-align: top;\n",
       "    }\n",
       "\n",
       "    .dataframe thead th {\n",
       "        text-align: right;\n",
       "    }\n",
       "</style>\n",
       "<table border=\"1\" class=\"dataframe\">\n",
       "  <thead>\n",
       "    <tr style=\"text-align: right;\">\n",
       "      <th></th>\n",
       "      <th>revenue</th>\n",
       "      <th>predicted_revenue</th>\n",
       "      <th>calculated_label</th>\n",
       "      <th>predicted_label</th>\n",
       "      <th>label</th>\n",
       "      <th>calculated_err</th>\n",
       "      <th>err</th>\n",
       "    </tr>\n",
       "    <tr>\n",
       "      <th>arrival_date</th>\n",
       "      <th></th>\n",
       "      <th></th>\n",
       "      <th></th>\n",
       "      <th></th>\n",
       "      <th></th>\n",
       "      <th></th>\n",
       "      <th></th>\n",
       "    </tr>\n",
       "  </thead>\n",
       "  <tbody>\n",
       "    <tr>\n",
       "      <th>2015-07-01</th>\n",
       "      <td>20317.720355</td>\n",
       "      <td>21151.889054</td>\n",
       "      <td>2</td>\n",
       "      <td>2</td>\n",
       "      <td>2.0</td>\n",
       "      <td>0.0</td>\n",
       "      <td>0.0</td>\n",
       "    </tr>\n",
       "    <tr>\n",
       "      <th>2015-07-02</th>\n",
       "      <td>16530.645277</td>\n",
       "      <td>19040.399816</td>\n",
       "      <td>1</td>\n",
       "      <td>1</td>\n",
       "      <td>1.0</td>\n",
       "      <td>0.0</td>\n",
       "      <td>0.0</td>\n",
       "    </tr>\n",
       "    <tr>\n",
       "      <th>2015-07-03</th>\n",
       "      <td>12989.951853</td>\n",
       "      <td>17136.097402</td>\n",
       "      <td>1</td>\n",
       "      <td>1</td>\n",
       "      <td>1.0</td>\n",
       "      <td>0.0</td>\n",
       "      <td>0.0</td>\n",
       "    </tr>\n",
       "    <tr>\n",
       "      <th>2015-07-04</th>\n",
       "      <td>17488.551606</td>\n",
       "      <td>15065.486549</td>\n",
       "      <td>1</td>\n",
       "      <td>1</td>\n",
       "      <td>1.0</td>\n",
       "      <td>0.0</td>\n",
       "      <td>0.0</td>\n",
       "    </tr>\n",
       "    <tr>\n",
       "      <th>2015-07-05</th>\n",
       "      <td>19591.458478</td>\n",
       "      <td>20241.138995</td>\n",
       "      <td>1</td>\n",
       "      <td>2</td>\n",
       "      <td>1.0</td>\n",
       "      <td>0.0</td>\n",
       "      <td>1.0</td>\n",
       "    </tr>\n",
       "    <tr>\n",
       "      <th>...</th>\n",
       "      <td>...</td>\n",
       "      <td>...</td>\n",
       "      <td>...</td>\n",
       "      <td>...</td>\n",
       "      <td>...</td>\n",
       "      <td>...</td>\n",
       "      <td>...</td>\n",
       "    </tr>\n",
       "    <tr>\n",
       "      <th>2017-03-27</th>\n",
       "      <td>26217.381380</td>\n",
       "      <td>29834.381779</td>\n",
       "      <td>2</td>\n",
       "      <td>2</td>\n",
       "      <td>2.0</td>\n",
       "      <td>0.0</td>\n",
       "      <td>0.0</td>\n",
       "    </tr>\n",
       "    <tr>\n",
       "      <th>2017-03-28</th>\n",
       "      <td>16185.177703</td>\n",
       "      <td>16927.454674</td>\n",
       "      <td>1</td>\n",
       "      <td>1</td>\n",
       "      <td>1.0</td>\n",
       "      <td>0.0</td>\n",
       "      <td>0.0</td>\n",
       "    </tr>\n",
       "    <tr>\n",
       "      <th>2017-03-29</th>\n",
       "      <td>24002.255525</td>\n",
       "      <td>27352.011096</td>\n",
       "      <td>2</td>\n",
       "      <td>2</td>\n",
       "      <td>2.0</td>\n",
       "      <td>0.0</td>\n",
       "      <td>0.0</td>\n",
       "    </tr>\n",
       "    <tr>\n",
       "      <th>2017-03-30</th>\n",
       "      <td>33327.810920</td>\n",
       "      <td>39426.908779</td>\n",
       "      <td>3</td>\n",
       "      <td>3</td>\n",
       "      <td>3.0</td>\n",
       "      <td>0.0</td>\n",
       "      <td>0.0</td>\n",
       "    </tr>\n",
       "    <tr>\n",
       "      <th>2017-03-31</th>\n",
       "      <td>36130.595184</td>\n",
       "      <td>41152.181686</td>\n",
       "      <td>3</td>\n",
       "      <td>4</td>\n",
       "      <td>3.0</td>\n",
       "      <td>0.0</td>\n",
       "      <td>1.0</td>\n",
       "    </tr>\n",
       "  </tbody>\n",
       "</table>\n",
       "<p>640 rows × 7 columns</p>\n",
       "</div>"
      ],
      "text/plain": [
       "                   revenue  predicted_revenue calculated_label  \\\n",
       "arrival_date                                                     \n",
       "2015-07-01    20317.720355       21151.889054                2   \n",
       "2015-07-02    16530.645277       19040.399816                1   \n",
       "2015-07-03    12989.951853       17136.097402                1   \n",
       "2015-07-04    17488.551606       15065.486549                1   \n",
       "2015-07-05    19591.458478       20241.138995                1   \n",
       "...                    ...                ...              ...   \n",
       "2017-03-27    26217.381380       29834.381779                2   \n",
       "2017-03-28    16185.177703       16927.454674                1   \n",
       "2017-03-29    24002.255525       27352.011096                2   \n",
       "2017-03-30    33327.810920       39426.908779                3   \n",
       "2017-03-31    36130.595184       41152.181686                3   \n",
       "\n",
       "             predicted_label  label  calculated_err  err  \n",
       "arrival_date                                              \n",
       "2015-07-01                 2    2.0             0.0  0.0  \n",
       "2015-07-02                 1    1.0             0.0  0.0  \n",
       "2015-07-03                 1    1.0             0.0  0.0  \n",
       "2015-07-04                 1    1.0             0.0  0.0  \n",
       "2015-07-05                 2    1.0             0.0  1.0  \n",
       "...                      ...    ...             ...  ...  \n",
       "2017-03-27                 2    2.0             0.0  0.0  \n",
       "2017-03-28                 1    1.0             0.0  0.0  \n",
       "2017-03-29                 2    2.0             0.0  0.0  \n",
       "2017-03-30                 3    3.0             0.0  0.0  \n",
       "2017-03-31                 4    3.0             0.0  1.0  \n",
       "\n",
       "[640 rows x 7 columns]"
      ]
     },
     "execution_count": 132,
     "metadata": {},
     "output_type": "execute_result"
    }
   ],
   "source": [
    "labels"
   ]
  },
  {
   "cell_type": "code",
   "execution_count": 133,
   "metadata": {},
   "outputs": [
    {
     "name": "stdout",
     "output_type": "stream",
     "text": [
      "13.0\n",
      "196.0\n"
     ]
    }
   ],
   "source": [
    "total_calculated_error = labels['calculated_err'].sum(axis = 0, skipna = True)\n",
    "total_predicted_error = labels['err'].sum(axis = 0, skipna = True)\n",
    "print(total_calculated_error)\n",
    "print(total_predicted_error)"
   ]
  },
  {
   "cell_type": "code",
   "execution_count": 134,
   "metadata": {},
   "outputs": [
    {
     "data": {
      "text/plain": [
       "0.0    627\n",
       "1.0     13\n",
       "Name: calculated_err, dtype: int64"
      ]
     },
     "execution_count": 134,
     "metadata": {},
     "output_type": "execute_result"
    }
   ],
   "source": [
    "labels['calculated_err'].value_counts()"
   ]
  },
  {
   "cell_type": "code",
   "execution_count": 135,
   "metadata": {},
   "outputs": [
    {
     "data": {
      "text/plain": [
       "0.0    453\n",
       "1.0    180\n",
       "2.0      6\n",
       "4.0      1\n",
       "Name: err, dtype: int64"
      ]
     },
     "execution_count": 135,
     "metadata": {},
     "output_type": "execute_result"
    }
   ],
   "source": [
    "labels['err'].value_counts()"
   ]
  },
  {
   "cell_type": "code",
   "execution_count": 146,
   "metadata": {},
   "outputs": [
    {
     "name": "stdout",
     "output_type": "stream",
     "text": [
      "predicted > true:  167\n",
      "predicted < true:  20\n"
     ]
    }
   ],
   "source": [
    "# Stage 2 analysis\n",
    "bad_predictions = labels[labels.err > 0.0]\n",
    "false_positive = bad_predictions[bad_predictions.predicted_revenue>bad_predictions.revenue].shape[0]\n",
    "print(\"predicted > true: \", false_positive)\n",
    "print(\"predicted < true: \", bad_predictions.shape[0] - false_positive)"
   ]
  },
  {
   "cell_type": "code",
   "execution_count": null,
   "metadata": {},
   "outputs": [],
   "source": []
  }
 ],
 "metadata": {
  "kernelspec": {
   "display_name": "Python 3",
   "language": "python",
   "name": "python3"
  },
  "language_info": {
   "codemirror_mode": {
    "name": "ipython",
    "version": 3
   },
   "file_extension": ".py",
   "mimetype": "text/x-python",
   "name": "python",
   "nbconvert_exporter": "python",
   "pygments_lexer": "ipython3",
   "version": "3.8.6"
  }
 },
 "nbformat": 4,
 "nbformat_minor": 4
}
