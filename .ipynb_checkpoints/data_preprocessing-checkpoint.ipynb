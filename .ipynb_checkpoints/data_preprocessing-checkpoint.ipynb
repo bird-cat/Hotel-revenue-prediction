{
 "cells": [
  {
   "cell_type": "code",
   "execution_count": 8,
   "metadata": {},
   "outputs": [],
   "source": [
    "import numpy as np\n",
    "import pandas as pd"
   ]
  },
  {
   "cell_type": "code",
   "execution_count": 9,
   "metadata": {},
   "outputs": [],
   "source": [
    "# Import data\n",
    "train_df = pd.read_csv(\"train.csv\")\n",
    "test_df = pd.read_csv(\"test.csv\")"
   ]
  },
  {
   "cell_type": "code",
   "execution_count": 10,
   "metadata": {},
   "outputs": [],
   "source": [
    "monthMap = {'January':'1', 'February':'2', 'March':'3',\\\n",
    "            'April':'4', 'May':'5', 'June':'6',\\\n",
    "            'July':'7', 'August':'8', 'September':'9',\\\n",
    "            'October':'10', 'November':'11', 'December':'12'}"
   ]
  },
  {
   "cell_type": "code",
   "execution_count": 11,
   "metadata": {},
   "outputs": [],
   "source": [
    "def getArrivalDate(row):\n",
    "    return pd.to_datetime(str(row.arrival_date_year) + '-' + monthMap[row.arrival_date_month] + '-' + str(row.arrival_date_day_of_month))"
   ]
  },
  {
   "cell_type": "code",
   "execution_count": 12,
   "metadata": {},
   "outputs": [],
   "source": [
    "train_df['arrival_date'] = train_df.apply(getArrivalDate, axis=1)\n",
    "test_df['arrival_date'] = test_df.apply(getArrivalDate, axis=1)\n",
    "\n",
    "train_df['stays'] = train_df.apply(lambda row: row.stays_in_weekend_nights + row.stays_in_week_nights, axis=1)\n",
    "test_df['stays'] = test_df.apply(lambda row: row.stays_in_weekend_nights + row.stays_in_week_nights, axis=1)\n",
    "\n",
    "train_df['expected_cost'] = train_df.apply(lambda row: row.adr * row.stays, axis=1)"
   ]
  },
  {
   "cell_type": "code",
   "execution_count": 13,
   "metadata": {},
   "outputs": [],
   "source": [
    "train_df['children'] = train_df['children'].fillna(value=0.0)\n",
    "train_df['persons'] = train_df.apply(lambda row: row.adults + row.children + row.babies, axis=1)\n",
    "test_df['persons'] = test_df.apply(lambda row: row.adults + row.children + row.babies, axis=1)"
   ]
  },
  {
   "cell_type": "code",
   "execution_count": 15,
   "metadata": {},
   "outputs": [],
   "source": [
    "train_df['adr_pp'] = train_df.apply(lambda row: row.adr / row.persons, axis=1)"
   ]
  },
  {
   "cell_type": "code",
   "execution_count": 18,
   "metadata": {},
   "outputs": [],
   "source": [
    "# clean invalid data\n",
    "train_df.drop(train_df[train_df.adr < 0].index, inplace=True)\n",
    "train_df.drop(train_df[train_df.persons == 0].index, inplace=True)\n",
    "test_df.drop(test_df[test_df.persons == 0].index, inplace=True)\n",
    "\n",
    "train_df.reset_index(drop=True, inplace=True)\n",
    "test_df.reset_index(drop=True, inplace=True)"
   ]
  },
  {
   "cell_type": "code",
   "execution_count": 19,
   "metadata": {},
   "outputs": [
    {
     "name": "stdout",
     "output_type": "stream",
     "text": [
      "<class 'pandas.core.frame.DataFrame'>\n",
      "RangeIndex: 89311 entries, 0 to 89310\n",
      "Data columns (total 40 columns):\n",
      " #   Column                          Non-Null Count  Dtype         \n",
      "---  ------                          --------------  -----         \n",
      " 0   Unnamed: 0                      89311 non-null  int64         \n",
      " 1   Unnamed: 0.1                    89311 non-null  int64         \n",
      " 2   ID                              89311 non-null  int64         \n",
      " 3   hotel                           89311 non-null  object        \n",
      " 4   is_canceled                     89311 non-null  int64         \n",
      " 5   lead_time                       89311 non-null  int64         \n",
      " 6   arrival_date_year               89311 non-null  int64         \n",
      " 7   arrival_date_month              89311 non-null  object        \n",
      " 8   arrival_date_week_number        89311 non-null  int64         \n",
      " 9   arrival_date_day_of_month       89311 non-null  int64         \n",
      " 10  stays_in_weekend_nights         89311 non-null  int64         \n",
      " 11  stays_in_week_nights            89311 non-null  int64         \n",
      " 12  adults                          89311 non-null  int64         \n",
      " 13  children                        89311 non-null  float64       \n",
      " 14  babies                          89311 non-null  int64         \n",
      " 15  meal                            89311 non-null  object        \n",
      " 16  country                         88862 non-null  object        \n",
      " 17  market_segment                  89311 non-null  object        \n",
      " 18  distribution_channel            89311 non-null  object        \n",
      " 19  is_repeated_guest               89311 non-null  int64         \n",
      " 20  previous_cancellations          89311 non-null  int64         \n",
      " 21  previous_bookings_not_canceled  89311 non-null  int64         \n",
      " 22  reserved_room_type              89311 non-null  object        \n",
      " 23  assigned_room_type              89311 non-null  object        \n",
      " 24  booking_changes                 89311 non-null  int64         \n",
      " 25  deposit_type                    89311 non-null  object        \n",
      " 26  agent                           76663 non-null  float64       \n",
      " 27  company                         5352 non-null   float64       \n",
      " 28  days_in_waiting_list            89311 non-null  int64         \n",
      " 29  customer_type                   89311 non-null  object        \n",
      " 30  adr                             89311 non-null  float64       \n",
      " 31  required_car_parking_spaces     89311 non-null  int64         \n",
      " 32  total_of_special_requests       89311 non-null  int64         \n",
      " 33  reservation_status              89311 non-null  object        \n",
      " 34  reservation_status_date         89311 non-null  object        \n",
      " 35  arrival_date                    89311 non-null  datetime64[ns]\n",
      " 36  stays                           89311 non-null  int64         \n",
      " 37  expected_cost                   89311 non-null  float64       \n",
      " 38  persons                         89311 non-null  float64       \n",
      " 39  adr_pp                          89311 non-null  float64       \n",
      "dtypes: datetime64[ns](1), float64(7), int64(20), object(12)\n",
      "memory usage: 27.3+ MB\n"
     ]
    }
   ],
   "source": [
    "train_df.info()"
   ]
  },
  {
   "cell_type": "code",
   "execution_count": 20,
   "metadata": {},
   "outputs": [
    {
     "data": {
      "text/plain": [
       "(89311, 40)"
      ]
     },
     "execution_count": 20,
     "metadata": {},
     "output_type": "execute_result"
    }
   ],
   "source": [
    "train_df.shape"
   ]
  },
  {
   "cell_type": "code",
   "execution_count": 21,
   "metadata": {},
   "outputs": [
    {
     "data": {
      "text/plain": [
       "(27830, 34)"
      ]
     },
     "execution_count": 21,
     "metadata": {},
     "output_type": "execute_result"
    }
   ],
   "source": [
    "test_df.shape"
   ]
  },
  {
   "cell_type": "code",
   "execution_count": 22,
   "metadata": {},
   "outputs": [],
   "source": [
    "train_df.to_csv(\"train.csv\")"
   ]
  },
  {
   "cell_type": "code",
   "execution_count": 23,
   "metadata": {},
   "outputs": [],
   "source": [
    "test_df.to_csv(\"test.csv\")"
   ]
  },
  {
   "cell_type": "code",
   "execution_count": null,
   "metadata": {},
   "outputs": [],
   "source": []
  }
 ],
 "metadata": {
  "environment": {
   "name": "tf2-2-3-gpu.2-3.m59",
   "type": "gcloud",
   "uri": "gcr.io/deeplearning-platform-release/tf2-2-3-gpu.2-3:m59"
  },
  "kernelspec": {
   "display_name": "Python 3",
   "language": "python",
   "name": "python3"
  },
  "language_info": {
   "codemirror_mode": {
    "name": "ipython",
    "version": 3
   },
   "file_extension": ".py",
   "mimetype": "text/x-python",
   "name": "python",
   "nbconvert_exporter": "python",
   "pygments_lexer": "ipython3",
   "version": "3.7.8"
  }
 },
 "nbformat": 4,
 "nbformat_minor": 4
}
